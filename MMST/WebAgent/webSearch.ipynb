{
 "cells": [
  {
   "cell_type": "code",
   "execution_count": 1,
   "id": "00ed133a",
   "metadata": {},
   "outputs": [],
   "source": [
    "from serpapi import GoogleSearch"
   ]
  },
  {
   "cell_type": "code",
   "execution_count": 3,
   "id": "d2034120",
   "metadata": {},
   "outputs": [],
   "source": [
    "params = {\n",
    "  \"engine\": \"google\",\n",
    "  \"q\": \"North American Oil Beetle\",\n",
    "  \"location\": \"Montgomery County, Maryland, United States\",\n",
    "  \"api_key\": \"d19541a8bf7c2e56f4ef32e6ea227808c29166d868dcbe0827b88d09effc805b\"\n",
    "}"
   ]
  },
  {
   "cell_type": "code",
   "execution_count": null,
   "id": "8ddf6b66",
   "metadata": {},
   "outputs": [],
   "source": [
    "search = GoogleSearch(params)\n",
    "results = search.get_dict()\n",
    "organic_results = results[\"organic_results\"]"
   ]
  },
  {
   "cell_type": "code",
   "execution_count": 7,
   "id": "42666d00",
   "metadata": {},
   "outputs": [
    {
     "data": {
      "text/plain": [
       "[{'position': 1,\n",
       "  'title': 'Meloe',\n",
       "  'link': 'https://en.wikipedia.org/wiki/Meloe',\n",
       "  'redirect_link': 'https://www.google.com/url?sa=t&source=web&rct=j&opi=89978449&url=https://en.wikipedia.org/wiki/Meloe&ved=2ahUKEwjHmriIoO2PAxUzTTABHZ_fAvIQFnoECB8QAQ',\n",
       "  'displayed_link': 'https://en.wikipedia.org › wiki › Meloe',\n",
       "  'thumbnail': 'https://serpapi.com/searches/68d1b7269c2312c33f31af99/images/ffe9b517fc036c3a091574496cb7c2085b1645b8eb0c2ab2bc271d3300e46fda.jpeg',\n",
       "  'favicon': 'https://serpapi.com/searches/68d1b7269c2312c33f31af99/images/ffe9b517fc036c3a091574496cb7c2080220b1f63c2594cc59e30f68b859c072.png',\n",
       "  'snippet': 'Meloe is a genus of blister beetles commonly referred to as oil beetles. The name derives from their defensive strategy: when threatened they release oily ...',\n",
       "  'snippet_highlighted_words': ['Meloe is a genus of blister beetles commonly referred to as oil beetles'],\n",
       "  'sitelinks': {'inline': [{'title': 'Meloe americanus',\n",
       "     'link': 'https://en.wikipedia.org/wiki/Meloe_americanus'},\n",
       "    {'title': 'Meloe proscarabaeus',\n",
       "     'link': 'https://en.wikipedia.org/wiki/Meloe_proscarabaeus'},\n",
       "    {'title': 'Meloe violaceus',\n",
       "     'link': 'https://en.wikipedia.org/wiki/Meloe_violaceus'},\n",
       "    {'title': 'Meloe franciscanus',\n",
       "     'link': 'https://en.wikipedia.org/wiki/Meloe_franciscanus'}]},\n",
       "  'source': 'Wikipedia'},\n",
       " {'position': 2,\n",
       "  'title': \"Oil Beetles: One of Nature's Tiny Celebrities\",\n",
       "  'link': 'https://www.montananaturalist.org/blog-post/oil-beetles/',\n",
       "  'redirect_link': 'https://www.google.com/url?sa=t&source=web&rct=j&opi=89978449&url=https://www.montananaturalist.org/blog-post/oil-beetles/&ved=2ahUKEwjHmriIoO2PAxUzTTABHZ_fAvIQFnoECEcQAQ',\n",
       "  'displayed_link': 'https://www.montananaturalist.org › blog-post › oil-bee...',\n",
       "  'thumbnail': 'https://serpapi.com/searches/68d1b7269c2312c33f31af99/images/ffe9b517fc036c3a091574496cb7c208005f627bf132f301cfcbc4fb36dbd69c.jpeg',\n",
       "  'favicon': 'https://serpapi.com/searches/68d1b7269c2312c33f31af99/images/ffe9b517fc036c3a091574496cb7c208ecba2cb7dbf93efa3f841b462751a476.png',\n",
       "  'date': 'Apr 3, 2024',\n",
       "  'snippet': 'Named for the oily, poisonous droplets that they secrete from their joints when disturbed, oil beetles of the genus Meloe and their family, ...',\n",
       "  'snippet_highlighted_words': ['oil beetles of the genus Meloe'],\n",
       "  'source': 'Montana Natural History Center'},\n",
       " {'position': 3,\n",
       "  'title': 'American Oil Beetle - Insect Identification',\n",
       "  'link': 'https://www.insectidentification.org/insect-description.php?identification=American-Oil-Beetle',\n",
       "  'redirect_link': 'https://www.google.com/url?sa=t&source=web&rct=j&opi=89978449&url=https://www.insectidentification.org/insect-description.php%3Fidentification%3DAmerican-Oil-Beetle&ved=2ahUKEwjHmriIoO2PAxUzTTABHZ_fAvIQFnoECEMQAQ',\n",
       "  'displayed_link': 'https://www.insectidentification.org › insect-description',\n",
       "  'thumbnail': 'https://serpapi.com/searches/68d1b7269c2312c33f31af99/images/ffe9b517fc036c3a091574496cb7c20849a4f89536bc08b9e43682b68945aed1.jpeg',\n",
       "  'favicon': 'https://serpapi.com/searches/68d1b7269c2312c33f31af99/images/ffe9b517fc036c3a091574496cb7c20810ae0c376ca0547520c7425597ddba69.png',\n",
       "  'date': 'May 24, 2025',\n",
       "  'snippet': 'American Oil Beetles are a type of Blister beetle. When threatened or squeezed under pressure, they emit a chemical called cantharidin that creates blisters ...',\n",
       "  'snippet_highlighted_words': ['American Oil Beetles are a type of Blister beetle'],\n",
       "  'source': 'Insect Identification.org'},\n",
       " {'position': 4,\n",
       "  'title': 'Oil Beetles | Missouri Department of Conservation',\n",
       "  'link': 'https://mdc.mo.gov/discover-nature/field-guide/oil-beetles',\n",
       "  'redirect_link': 'https://www.google.com/url?sa=t&source=web&rct=j&opi=89978449&url=https://mdc.mo.gov/discover-nature/field-guide/oil-beetles&ved=2ahUKEwjHmriIoO2PAxUzTTABHZ_fAvIQFnoECEAQAQ',\n",
       "  'displayed_link': 'https://mdc.mo.gov › discover-nature › field-guide › oi...',\n",
       "  'favicon': 'https://serpapi.com/searches/68d1b7269c2312c33f31af99/images/ffe9b517fc036c3a091574496cb7c208d8c983db1fa97c0272ea0d8d6079d993.png',\n",
       "  'snippet': 'Blister beetles in the genus Meloe are called oil beetles because of a yellowish oil they excrete from their joints when squeezed or distressed.',\n",
       "  'snippet_highlighted_words': ['Blister beetles in the genus Meloe'],\n",
       "  'source': 'Missouri Department of Conservation (.gov)'},\n",
       " {'position': 5,\n",
       "  'title': 'Life-saving beetles',\n",
       "  'link': 'https://thesmallermajority.com/2012/10/08/life-saving-beetles/',\n",
       "  'redirect_link': 'https://www.google.com/url?sa=t&source=web&rct=j&opi=89978449&url=https://thesmallermajority.com/2012/10/08/life-saving-beetles/&ved=2ahUKEwjHmriIoO2PAxUzTTABHZ_fAvIQFnoECEYQAQ',\n",
       "  'displayed_link': 'https://thesmallermajority.com › 2012/10/08 › life-savi...',\n",
       "  'thumbnail': 'https://serpapi.com/searches/68d1b7269c2312c33f31af99/images/ffe9b517fc036c3a091574496cb7c208ad479854900f4d66fc1d86e00a1fb744.jpeg',\n",
       "  'favicon': 'https://serpapi.com/searches/68d1b7269c2312c33f31af99/images/ffe9b517fc036c3a091574496cb7c208fae965d16f488469e12c4e6b75be59f5.jpeg',\n",
       "  'date': 'Oct 8, 2012',\n",
       "  'snippet': 'North American oil beetles appear as adults in the August-October, and thus signal not the beginning, but rather the end, of the insect season.',\n",
       "  'snippet_highlighted_words': ['appear as adults in the August-October'],\n",
       "  'source': 'The Smaller Majority'},\n",
       " {'position': 6,\n",
       "  'title': 'The Surprising Life of the Oil Beetle by Jeff Tome',\n",
       "  'link': 'https://auduboncnc.org/the-surprising-life-of-the-oil-beetle-by-jeff-tome/',\n",
       "  'redirect_link': 'https://www.google.com/url?sa=t&source=web&rct=j&opi=89978449&url=https://auduboncnc.org/the-surprising-life-of-the-oil-beetle-by-jeff-tome/&ved=2ahUKEwjHmriIoO2PAxUzTTABHZ_fAvIQFnoECEUQAQ',\n",
       "  'displayed_link': 'https://auduboncnc.org › the-surprising-life-of-the-oil-b...',\n",
       "  'thumbnail': 'https://encrypted-tbn0.gstatic.com/images?q=tbn:ANd9GcQL6yxF7R3ud_2ovLY8Rqph9jGlTnUmOGhbgmxZSLlBkuC4G-6lXCNt&usqp=CAE&s',\n",
       "  'favicon': 'https://serpapi.com/searches/68d1b7269c2312c33f31af99/images/ffe9b517fc036c3a091574496cb7c20809749e330d19d38c697022266bf01e07.png',\n",
       "  'date': 'Oct 1, 2019',\n",
       "  'snippet': 'Oil Beetles showcase a totally weird life cycle, toxins that can cause both pain and pleasure, and the potential to be part of the cure for cancer.',\n",
       "  'snippet_highlighted_words': ['Oil Beetles showcase a totally weird life cycle'],\n",
       "  'source': 'Audubon Community Nature Center'},\n",
       " {'position': 7,\n",
       "  'title': 'Buttercup Oil Beetle (Meloe americanus)',\n",
       "  'link': 'https://www.inaturalist.org/taxa/224874-Meloe-americanus',\n",
       "  'redirect_link': 'https://www.google.com/url?sa=t&source=web&rct=j&opi=89978449&url=https://www.inaturalist.org/taxa/224874-Meloe-americanus&ved=2ahUKEwjHmriIoO2PAxUzTTABHZ_fAvIQFnoECEEQAQ',\n",
       "  'displayed_link': 'https://www.inaturalist.org › taxa › 224874-Meloe-ame...',\n",
       "  'thumbnail': 'https://encrypted-tbn0.gstatic.com/images?q=tbn:ANd9GcT436NjrUU4v0jCC3hv2p_OY6xMMCZBsDkCIbtxrGL5sYJm9Ou9mrkG&usqp=CAE&s',\n",
       "  'favicon': 'https://serpapi.com/searches/68d1b7269c2312c33f31af99/images/ffe9b517fc036c3a091574496cb7c208cd98aace7888f0760b6e6d5dae094b95.png',\n",
       "  'snippet': 'Meloe americanus, the buttercup oil beetle, is a species of blister beetle in the family Meloidae. It is found in North America.',\n",
       "  'snippet_highlighted_words': ['is a species of blister beetle in the family Meloidae'],\n",
       "  'source': 'iNaturalist'},\n",
       " {'position': 8,\n",
       "  'title': 'Oil Beetle Adventures – Field Station',\n",
       "  'link': 'https://uwm.edu/field-station/bug-of-the-week/oil-beetle-adventures/',\n",
       "  'redirect_link': 'https://www.google.com/url?sa=t&source=web&rct=j&opi=89978449&url=https://uwm.edu/field-station/bug-of-the-week/oil-beetle-adventures/&ved=2ahUKEwjHmriIoO2PAxUzTTABHZ_fAvIQFnoECEQQAQ',\n",
       "  'displayed_link': 'https://uwm.edu › field-station › bug-of-the-week › oil-...',\n",
       "  'thumbnail': 'https://encrypted-tbn0.gstatic.com/images?q=tbn:ANd9GcReAW63fP_6CEvwJ_EGa2w_eittTjcjHJ7g7VLJBYfWS_dgNZi8UskW&usqp=CAE&s',\n",
       "  'favicon': 'https://serpapi.com/searches/68d1b7269c2312c33f31af99/images/ffe9b517fc036c3a091574496cb7c20870af4d17dff849d828c9195505d02b5f.png',\n",
       "  'date': 'Oct 30, 2024',\n",
       "  'snippet': 'Oil beetles, which are blister beetles (family Meloidae) in the genus Meloe, are odd-looking beetles – inky blue-black, soft, and bulbous.',\n",
       "  'snippet_highlighted_words': ['Oil beetles'],\n",
       "  'source': 'UW-Milwaukee'},\n",
       " {'position': 9,\n",
       "  'title': \"Don't Mess with Oil Beetles\",\n",
       "  'link': 'https://magazine.outdoornebraska.gov/stories/wildlife/dont-mess-with-oil-beetles/',\n",
       "  'redirect_link': 'https://www.google.com/url?sa=t&source=web&rct=j&opi=89978449&url=https://magazine.outdoornebraska.gov/stories/wildlife/dont-mess-with-oil-beetles/&ved=2ahUKEwjHmriIoO2PAxUzTTABHZ_fAvIQFnoECEIQAQ',\n",
       "  'displayed_link': 'https://magazine.outdoornebraska.gov › ... › Wildlife',\n",
       "  'thumbnail': 'https://encrypted-tbn0.gstatic.com/images?q=tbn:ANd9GcQ4Oa_3fFOUOjaOhgCbh-KpP5NwSGivwNkUvHWuC18xdBZWDZj9BXm5&usqp=CAE&s',\n",
       "  'favicon': 'https://serpapi.com/searches/68d1b7269c2312c33f31af99/images/ffe9b517fc036c3a091574496cb7c208d6a46222aef9a2ebb1c356b133f7b0fa.png',\n",
       "  'date': 'Oct 23, 2019',\n",
       "  'snippet': 'The oil beetle is a plant-feeding insect in the blister beetle family. As with other blister beetles, the oil beetle produces a toxic compound ...',\n",
       "  'snippet_highlighted_words': ['The oil beetle is a plant-feeding insect in the blister beetle family'],\n",
       "  'source': 'Nebraskaland Magazine (.gov)'}]"
      ]
     },
     "execution_count": 7,
     "metadata": {},
     "output_type": "execute_result"
    }
   ],
   "source": [
    "organic_results"
   ]
  },
  {
   "cell_type": "code",
   "execution_count": null,
   "id": "85a00d6a",
   "metadata": {},
   "outputs": [],
   "source": []
  }
 ],
 "metadata": {
  "kernelspec": {
   "display_name": "Python 3",
   "language": "python",
   "name": "python3"
  },
  "language_info": {
   "codemirror_mode": {
    "name": "ipython",
    "version": 3
   },
   "file_extension": ".py",
   "mimetype": "text/x-python",
   "name": "python",
   "nbconvert_exporter": "python",
   "pygments_lexer": "ipython3",
   "version": "3.8.10"
  }
 },
 "nbformat": 4,
 "nbformat_minor": 5
}
